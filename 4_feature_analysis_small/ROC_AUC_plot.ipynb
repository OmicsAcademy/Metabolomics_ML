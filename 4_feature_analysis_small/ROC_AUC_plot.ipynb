{
 "cells": [
  {
   "cell_type": "code",
   "execution_count": 1,
   "metadata": {},
   "outputs": [],
   "source": [
    "# PART OF THIS CODE IS FROM MICHAEL MURPHY - THANKS!\n",
    "%matplotlib inline\n",
    "%config InlineBackend.figure_format = 'retina'\n",
    "from collections import OrderedDict\n",
    "import glob\n",
    "import pickle\n",
    "import numpy as np\n",
    "import pandas as pd\n",
    "import matplotlib.pyplot as plt\n",
    "import os, sys\n",
    "import glob, re\n",
    "import seaborn as sns\n",
    "pd.set_option('display.max_rows', 500) \n",
    "pd.set_option('display.max_columns', 100)\n",
    "\n",
    "from sklearn.preprocessing import StandardScaler\n",
    "from sklearn.model_selection import GridSearchCV, StratifiedKFold, cross_val_score, train_test_split\n",
    "from sklearn.linear_model import LogisticRegression, LogisticRegressionCV\n",
    "from sklearn.utils.multiclass import type_of_target # used to check the Y labels are appropriate for classification\n",
    "from sklearn.metrics import roc_curve\n",
    "from sklearn import metrics\n",
    "from sklearn.utils import shuffle\n",
    "from scipy import interp"
   ]
  },
  {
   "cell_type": "code",
   "execution_count": 3,
   "metadata": {},
   "outputs": [],
   "source": [
    "#### Use this if DOING a fresh modeling fitting analysis\n",
    "bn = True # use the percentile normalized data or no? \n",
    "log = False\n",
    "stand_scaler = False\n",
    "reanalysis = True\n",
    "model = 'log_reg' #log_reg, rf or svm\n",
    "\n",
    "if reanalysis:\n",
    "    pre_norm_ds = [ 'plasmaall_author',\n",
    "                    'urineall_author',\n",
    "                    'm_oxylipin_chronic_hep_b',\n",
    "                    'm_chronic_hep_b_POS',\n",
    "                    'm_chronic_hep_b_NEG',\n",
    "                    'm_CER_mass_spectrometry_v4',\n",
    "                    'm_CER_mass_spectrometry_v4_3_CS',\n",
    "                    'm_CER_mass_spectrometry_v4_0_NS',\n",
    "                    'm_CER_mass_spectrometry_v4_2_FS',\n",
    "                    'm_CER_mass_spectrometry_v4_1_COPD',\n",
    "                    'm_EICO_mass_spectrometry_v4',\n",
    "                    'm_EICO_mass_spectrometry_v4_3_CS',\n",
    "                    'm_EICO_mass_spectrometry_v4_0_NS',\n",
    "                    'm_EICO_mass_spectrometry_v4_2_FS',\n",
    "                    'm_EICO_mass_spectrometry_v4_1_COPD',\n",
    "                    'AN000580',\n",
    "                    'AN000581',\n",
    "                    'AN001503']\n",
    "\n",
    "    if bn:\n",
    "#         path = './bn_pickles/*.pkl'\n",
    "#         path = './bn_pickles/ST00006*_bn_data.pkl'\n",
    "        path = './bn_pickles/MTBLS315*.pkl'\n",
    "    else:\n",
    "        path = './pickles/*.pkl'\n",
    "\n",
    "    datasets = OrderedDict()\n",
    "    for fn in sorted(glob.glob(path)):\n",
    "        data = pd.read_pickle(open(fn,'rb'))\n",
    "        datasets[data[0]['study']] = data\n",
    "    \n",
    "else:\n",
    "    #### Use this if NOT doing a fresh modeling fitting analysis\n",
    "    pickle_file = './YES_bn_ds_models_and_sigfeat_NO_log_NO_standscal_NO_multi_mapped_labels.pkl'\n",
    "    ### The non-batch corrected pickle for the dataset\n",
    "    # pickle_file = './NO_bn_dataset_models_and_sigfeat_YES_log.pkl'\n",
    "    datasets = pickle.load(open(pickle_file, 'rb'))"
   ]
  },
  {
   "cell_type": "code",
   "execution_count": 6,
   "metadata": {},
   "outputs": [
    {
     "name": "stdout",
     "output_type": "stream",
     "text": [
      "m_GC_nmfi_and_bsi_diagnosis_v2_maf\n",
      "m_LC_nmfi_and_bsi_diagnosis_v2_maf\n",
      "m_UPLC_NEG_nmfi_and_bsi_diagnosis_v2_maf\n",
      "m_UPLC_POS_nmfi_and_bsi_diagnosis_v2_maf\n",
      "IPO_aligned_MTBLS315_mzData\n",
      "IPO_aligned_MTBLS315_mzXML\n",
      "IPO_aligned_MTBLS315_n_mzML\n",
      "IPO_aligned_MTBLS315_p_mzML\n"
     ]
    }
   ],
   "source": [
    "for k,v in datasets.items():\n",
    "    for ds in v:\n",
    "        print(ds['data_set'])"
   ]
  },
  {
   "cell_type": "code",
   "execution_count": 43,
   "metadata": {},
   "outputs": [
    {
     "name": "stdout",
     "output_type": "stream",
     "text": [
      "m_GC_nmfi_and_bsi_diagnosis_v2_maf 0.7746913580246915 0.03327726392647142\n",
      "m_LC_nmfi_and_bsi_diagnosis_v2_maf 0.7550505050505051 0.09903369470266453\n",
      "m_UPLC_NEG_nmfi_and_bsi_diagnosis_v2_maf 0.8473625140291808 0.05833980434732669\n",
      "m_UPLC_POS_nmfi_and_bsi_diagnosis_v2_maf 0.893939393939394 0.05455168938053755\n",
      "IPO_aligned_MTBLS315_mzData 0.5238496071829406 0.06886713176622179\n",
      "IPO_aligned_MTBLS315_mzXML 0.8577441077441078 0.05233768200912393\n",
      "IPO_aligned_MTBLS315_n_mzML 0.9424803591470258 0.03370041651991214\n",
      "IPO_aligned_MTBLS315_p_mzML 0.9214365881032548 0.02494512993366204\n"
     ]
    },
    {
     "data": {
      "text/plain": [
       "<Figure size 576x432 with 0 Axes>"
      ]
     },
     "metadata": {},
     "output_type": "display_data"
    },
    {
     "data": {
      "text/plain": [
       "<Figure size 576x432 with 0 Axes>"
      ]
     },
     "metadata": {},
     "output_type": "display_data"
    },
    {
     "data": {
      "text/plain": [
       "<Figure size 576x432 with 0 Axes>"
      ]
     },
     "metadata": {},
     "output_type": "display_data"
    },
    {
     "data": {
      "text/plain": [
       "<Figure size 576x432 with 0 Axes>"
      ]
     },
     "metadata": {},
     "output_type": "display_data"
    },
    {
     "data": {
      "text/plain": [
       "<Figure size 576x432 with 0 Axes>"
      ]
     },
     "metadata": {},
     "output_type": "display_data"
    },
    {
     "data": {
      "text/plain": [
       "<Figure size 576x432 with 0 Axes>"
      ]
     },
     "metadata": {},
     "output_type": "display_data"
    },
    {
     "data": {
      "text/plain": [
       "<Figure size 576x432 with 0 Axes>"
      ]
     },
     "metadata": {},
     "output_type": "display_data"
    },
    {
     "data": {
      "text/plain": [
       "<Figure size 576x432 with 0 Axes>"
      ]
     },
     "metadata": {},
     "output_type": "display_data"
    }
   ],
   "source": [
    "seed = 981432\n",
    "def convert_nan_to_val(data, value=0):\n",
    "    data[pd.isnull(data)] = value\n",
    "    return data\n",
    "\n",
    "def get_reduced_data(data_list):\n",
    "    peaks = data_list['peaks'].values.T\n",
    "#     print(peaks)\n",
    "    data = data_list['features']\n",
    "    combined = np.concatenate((peaks,data)).T\n",
    "#     combined = combined[:,1:]\n",
    "#     print(combined)\n",
    "    # not its mz/rt/number_samples x feat\n",
    "    # sort be the rt\n",
    "    combined = combined.view('f32,f32,d32').sort(order=['f1'], axis=0)\n",
    "#     combined = np.sort(combined, axis=0)\n",
    "\n",
    "base_fpr = np.linspace(0,1,101)\n",
    "for k, v in datasets.items():\n",
    "    for dataset in v:\n",
    "        tprs = []\n",
    "        X = dataset['features'].values.copy()\n",
    "        # do data transformation and 0 filling \n",
    "        if 'IPO' in dataset['data_set']:\n",
    "            ds = dataset['data_set']\n",
    "            X = convert_nan_to_val(X, value=1)\n",
    "            X = X[:,dataset['peaks']['X1']>15]\n",
    "        else:\n",
    "    #         continue\n",
    "            ds = dataset['data_set']\n",
    "            X[X == 0] = 1\n",
    "    ### Filter features based on having a mean feature value greater than a certain value:\n",
    "    #     X = X[:,X.mean(0) > 100]\n",
    "\n",
    "#         X = np.log2(X)\n",
    "        y = dataset['labels'].values.copy().ravel().astype(int)\n",
    "\n",
    "    ####working and looks good\n",
    "    #     x_train, x_test, y_train, y_test = train_test_split(X, y, test_size=0.3) \n",
    "    #     scaler = StandardScaler()\n",
    "    #     x_train = scaler.fit_transform(x_train)\n",
    "    #     x_test = scaler.transform(x_test)\n",
    "    #     clf = LogisticRegressionCV(penalty='l1', solver='liblinear', tol=1e-4, intercept_scaling=10, max_iter=500)\n",
    "    #     clf.fit(x_train, y_train)\n",
    "    #     y_pred = clf.predict_proba(x_test)\n",
    "    #     fpr, tpr, _ = roc_curve(y_test, y_pred[:,1])\n",
    "    #     auc_values = metrics.auc(fpr, tpr)\n",
    "    #     plt.plot(fpr, tpr, 'b', label='AUC = %0.2f' % auc_values)\n",
    "    #     plt.legend(loc='lower right')\n",
    "    #     plt.show()\n",
    "#         get_reduced_data(dataset)\n",
    "        X,y = shuffle(X,y)\n",
    "        clf = LogisticRegressionCV(penalty='l1', solver='liblinear', tol=1e-4, intercept_scaling=10, max_iter=500)\n",
    "        cv = StratifiedKFold(n_splits=3, shuffle=True)\n",
    "        aucs = []\n",
    "        for train, test in cv.split(X,y):\n",
    "            x_train, y_train = X[train], y[train]\n",
    "            x_test,y_test = X[test], y[test]\n",
    "            scaler = StandardScaler()\n",
    "            x_train = scaler.fit_transform(x_train)\n",
    "            x_test = scaler.transform(x_test)\n",
    "            clf.fit(x_train, y_train)\n",
    "            y_pred = clf.predict_proba(x_test)\n",
    "            fpr, tpr, _ = roc_curve(y_test, y_pred[:,1])\n",
    "            auc_value = metrics.auc(fpr, tpr)\n",
    "            aucs.append(auc_value)\n",
    "    #         plt.plot(fpr, tpr, 'b', alpha=0.15) #, label='AUC = %0.2f' % auc_values)\n",
    "            tpr = interp(base_fpr, fpr, tpr)\n",
    "            tpr[0] = 0.0 #just to make it start at 0\n",
    "            tprs.append(tpr)\n",
    "    \n",
    "        tprs = np.array(tprs)\n",
    "        mean_tprs = tprs.mean(axis=0)\n",
    "        std = tprs.std(axis=0)\n",
    "        tprs_upper = np.minimum(mean_tprs + std, 1)\n",
    "        tprs_lower = mean_tprs - std\n",
    "        aucs = np.asarray(aucs)\n",
    "        print(ds, aucs.mean(), aucs.std())\n",
    "        import matplotlib as mpl\n",
    "        mpl.rcParams['axes.linewidth'] = 1.5\n",
    "        plt.figure(figsize=(8,6))\n",
    "        plt.plot(base_fpr, mean_tprs, 'b',linewidth=4.0, label='Mean ROC - AUC = %0.2f $\\pm$ %0.2f' %(aucs.mean(),aucs.std()))\n",
    "        plt.fill_between(base_fpr, tprs_lower, tprs_upper, color='grey', alpha=0.3, label='$\\pm$ 1 stdev')\n",
    "        plt.plot([0, 1], [0, 1],'r--', linewidth=1.0, label='Luck') \n",
    "        plt.xlim([-0.05, 1.05])\n",
    "        plt.ylim([-0.05, 1.05])\n",
    "        plt.tick_params(axis='both', which='major', labelsize=16)\n",
    "        plt.xlabel('False Positive Rate', fontsize=17)\n",
    "        plt.ylabel('True Positive Rate', fontsize=17)\n",
    "        plt.title('Malaria vs. Non-malarial fevers:' +'\\n'+'Full Retention time', fontsize=25)\n",
    "    #     plt.title('ROC analysis for %s' % ds)\n",
    "        leg = plt.legend(loc='lower right', fontsize=16, framealpha=0.3)\n",
    "    #     for line in leg.get_lines():\n",
    "    #         line.set_linewidth(1)\n",
    "        ax = plt.gca()\n",
    "        ax.get_xaxis().set_tick_params(direction='out', width=1)\n",
    "        ax.get_yaxis().set_tick_params(direction='out', width=1)\n",
    "        ax.yaxis.set_ticks_position('left')\n",
    "        ax.xaxis.set_ticks_position('bottom')\n",
    "    #     plt.show() \n",
    "        plt.tight_layout()\n",
    "        plt.savefig('Malaria_v_non-malaria: all feature_%s.png' % ds)\n",
    "        plt.gcf().clear()\n",
    "    \n",
    "    \n",
    "    \n",
    "#     perform model training on each split of the data   \n",
    "#     cv = StratifiedKFold(n_splits=3)\n",
    "#     aucs = []\n",
    "#     for train, test in cv.split(X,y):\n",
    "#         scaler = StandardScaler()\n",
    "# #         clf = LogisticRegression(penalty='l1', solver='liblinear', tol=1e-4, C=0.1,\n",
    "# #                                                         intercept_scaling=10, max_iter=500)\n",
    "#         clf = GridSearchCV(estimator=LogisticRegression(penalty='l1', solver='liblinear', tol=1e-4, \n",
    "#                                                         intercept_scaling=10, max_iter=500),\n",
    "#                            cv=StratifiedKFold(3, random_state=seed+1), param_grid={'C': 10.**np.linspace(-4,4)},\n",
    "#                            n_jobs=-1, scoring='roc_auc') \n",
    "#         X_d = scaler.fit_transform(X[train])\n",
    "#         X_t = scaler.transform(X[test])\n",
    "#         clf.fit(X_d, y[train])\n",
    "#         y_pred = clf.predict_proba(X_t)\n",
    "#         fpr, tpr, _ = roc_curve(y[test], y_pred[:,1])\n",
    "#         auc_values = metrics.auc(fpr, tpr)\n",
    "#         aucs.append(auc_values)\n",
    "# #         plt.plot(fpr, tpr, 'b', alpha=0.15, label='AUC = %0.2f' % auc_values)\n",
    "#         tpr = interp(base_fpr, fpr, tpr)\n",
    "#         tpr[0] = 0.0 #just to make it start at 0\n",
    "#         tprs.append(tpr)\n",
    "# #         print(fpr)\n",
    "# #         print(tpr)\n",
    "# #         print(y[test])\n",
    "# #         print(y_pred[:,1])\n",
    "#     tprs = np.array(tprs)\n",
    "#     mean_tprs = tprs.mean(axis=0)\n",
    "#     std = tprs.std(axis=0)\n",
    "#     tprs_upper = np.minimum(mean_tprs + std, 1)\n",
    "#     tprs_lower = mean_tprs - std\n",
    "#     aucs = np.asarray(aucs)\n",
    "    \n",
    "    \n",
    "    \n",
    "#     plt.plot(base_fpr, mean_tprs, 'b', label='AUC = %0.2f +/- %0.2f' %(aucs.mean(),aucs.std()))\n",
    "#     plt.fill_between(base_fpr, tprs_lower, tprs_upper, color='grey', alpha=0.3)\n",
    "#     plt.plot([0, 1], [0, 1],'r--')\n",
    "#     plt.xlim([-0.01, 1.01])\n",
    "#     plt.ylim([-0.01, 1.01])\n",
    "#     plt.xlabel('False Positive Rate')\n",
    "#     plt.ylabel('True Positive Rate')\n",
    "#     plt.title('ROC analysis for %s' % ds)\n",
    "#     plt.legend(loc='lower right')\n",
    "#     plt.show()"
   ]
  },
  {
   "cell_type": "code",
   "execution_count": null,
   "metadata": {},
   "outputs": [],
   "source": []
  }
 ],
 "metadata": {
  "kernelspec": {
   "display_name": "Python 3",
   "language": "python",
   "name": "python3"
  },
  "language_info": {
   "codemirror_mode": {
    "name": "ipython",
    "version": 3
   },
   "file_extension": ".py",
   "mimetype": "text/x-python",
   "name": "python",
   "nbconvert_exporter": "python",
   "pygments_lexer": "ipython3",
   "version": "3.6.5"
  }
 },
 "nbformat": 4,
 "nbformat_minor": 2
}
