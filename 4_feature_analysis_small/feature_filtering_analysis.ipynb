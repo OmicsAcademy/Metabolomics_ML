{
 "cells": [
  {
   "cell_type": "code",
   "execution_count": 1,
   "metadata": {},
   "outputs": [],
   "source": [
    "# PART OF THIS CODE IS FROM MICHAEL MURPHY - THANKS!\n",
    "%matplotlib inline\n",
    "%config InlineBackend.figure_format = 'retina'\n",
    "from collections import OrderedDict\n",
    "import glob\n",
    "import pickle\n",
    "import numpy as np\n",
    "import pandas as pd\n",
    "import matplotlib.pyplot as plt\n",
    "pd.set_option('display.max_rows', 500) \n",
    "pd.set_option('display.max_columns', 100)\n",
    "\n",
    "from sklearn.preprocessing import StandardScaler\n",
    "from sklearn.model_selection import GridSearchCV, StratifiedKFold, cross_val_score, train_test_split\n",
    "from sklearn.linear_model import LogisticRegression, LogisticRegressionCV\n",
    "from sklearn.utils.multiclass import type_of_target # used to check the Y labels are appropriate for classification\n",
    "from sklearn.metrics import roc_curve\n",
    "from sklearn import metrics\n",
    "from sklearn.utils import shuffle\n",
    "from scipy import interp"
   ]
  },
  {
   "cell_type": "code",
   "execution_count": 3,
   "metadata": {},
   "outputs": [],
   "source": [
    "#### Use this if NOT doing a fresh modeling fitting analysis\n",
    "pickle_file = './YES_batch_correct_dataset_models_and_sigfeat_NO_log.pkl'\n",
    "### The non-batch corrected pickle for the dataset\n",
    "# pickle_file = './non_bn_dataset_models_and_sigfeat.pkl'\n",
    "datasets = pickle.load(open(pickle_file, 'rb'))"
   ]
  },
  {
   "cell_type": "code",
   "execution_count": 11,
   "metadata": {},
   "outputs": [],
   "source": [
    "datasets = OrderedDict()\n",
    "for fn in sorted(glob.glob('./pickles/*.pkl')):\n",
    "    data = pd.read_pickle(open(fn,'rb'))\n",
    "    datasets[data[0]['study']] = data"
   ]
  },
  {
   "cell_type": "code",
   "execution_count": 12,
   "metadata": {},
   "outputs": [],
   "source": [
    "def convert_nan_to_val(data, value=0):\n",
    "    data[pd.isnull(data)] = value\n",
    "    return data\n",
    "\n",
    "def extract_random_subset(X, y, percent):\n",
    "    num_to_keep = int(X.shape[0]*percent)\n",
    "    idx = np.random.randint(X.shape[0], size=num_to_keep)\n",
    "    return X[idx,:], y[idx,:].ravel()\n",
    "\n",
    "def l1_log_reg(X,y,ds):\n",
    "    X,y = shuffle(X,y)\n",
    "    # intercept scaling of 1 seems to help with the 0.5 AUC, think it was a convergence issues? \n",
    "    clf = LogisticRegressionCV(scoring='roc_auc', penalty='l1', solver='liblinear', tol=1e-4, intercept_scaling=1, max_iter=500)\n",
    "    cv = StratifiedKFold(n_splits=3, shuffle=True)\n",
    "    aucs = []\n",
    "    if ds['study'] == 'MTBLS423':\n",
    "        y[y==6] = 1\n",
    "    for train, test in cv.split(X,y):\n",
    "        x_train, y_train = X[train], y[train]\n",
    "        x_test,y_test = X[test], y[test]\n",
    "        scaler = StandardScaler()\n",
    "        x_train = scaler.fit_transform(x_train)\n",
    "        x_test = scaler.transform(x_test)\n",
    "        clf.fit(x_train, y_train)\n",
    "        if ds['num_labels'] != 2:\n",
    "            aucs.append(clf.score(x_test, y_test))\n",
    "        else:\n",
    "            y_pred = clf.predict_proba(x_test)\n",
    "            fpr, tpr, _ = roc_curve(y_test, y_pred[:,1])\n",
    "            auc_value = metrics.auc(fpr, tpr)\n",
    "            aucs.append(auc_value)            \n",
    "    auc = np.asarray(aucs)\n",
    "    # found sometimes that something will just go wrong in fitting and it will shut down all features and give a 0.5 model\n",
    "    # also sometimes the 1.0 models are fit wrong...\n",
    "    if auc.mean() == 1.0 or auc.mean() == 0.5:\n",
    "        X,y = shuffle(X,y)\n",
    "        clf = LogisticRegressionCV(penalty='l1', scoring='roc_auc', solver='liblinear', tol=1e-4, intercept_scaling=1, max_iter=500)\n",
    "        cv = StratifiedKFold(n_splits=3, shuffle=True)\n",
    "        aucs = []\n",
    "        for train, test in cv.split(X,y):\n",
    "            x_train, y_train = X[train], y[train]\n",
    "            x_test,y_test = X[test], y[test]\n",
    "            scaler = StandardScaler()\n",
    "            x_train = scaler.fit_transform(x_train)\n",
    "            x_test = scaler.transform(x_test)\n",
    "            clf.fit(x_train, y_train)\n",
    "            if ds['num_labels'] != 2:\n",
    "                aucs.append(clf.score(x_test, y_test))\n",
    "            else:\n",
    "                y_pred = clf.predict_proba(x_test)\n",
    "                fpr, tpr, _ = roc_curve(y_test, y_pred[:,1])\n",
    "                auc_value = metrics.auc(fpr, tpr)\n",
    "                aucs.append(auc_value)  \n",
    "    return auc.mean(), auc.std()"
   ]
  },
  {
   "cell_type": "markdown",
   "metadata": {},
   "source": [
    "# Filter based on feature presence (ie not >0) in > X%"
   ]
  },
  {
   "cell_type": "code",
   "execution_count": 5,
   "metadata": {},
   "outputs": [
    {
     "name": "stdout",
     "output_type": "stream",
     "text": [
      "Feng plasma\n",
      "Feng urine\n",
      "Feng serum_IPO_aligned_Feng_serum_batch1\n",
      "Feng serum_IPO_aligned_Feng_serum_batch2\n",
      "Feng urine_IPO_aligned_Feng_urine_batch1\n",
      "Feng urine_IPO_aligned_Feng_urine_batch2\n",
      "MTBLS105 IPO_aligned_MTBLS105_qMS\n",
      "MTBLS105 IPO_aligned_MTBLS105_SIM-MS\n",
      "MTBLS146 IPO_aligned_MTBLS146_global_neg\n",
      "MTBLS146 IPO_aligned_MTBLS146_global_pos\n"
     ]
    },
    {
     "name": "stderr",
     "output_type": "stream",
     "text": [
      "No handles with labels found to put in legend.\n"
     ]
    },
    {
     "name": "stdout",
     "output_type": "stream",
     "text": [
      "MTBLS17 IPO_aligned_MTBLS17_neg_exp1\n",
      "MTBLS17 IPO_aligned_MTBLS17_neg_exp2\n",
      "MTBLS17 IPO_aligned_MTBLS17_neg_exp3\n",
      "MTBLS17 IPO_aligned_MTBLS17_pos_exp1\n",
      "MTBLS17 IPO_aligned_MTBLS17_pos_exp2\n",
      "MTBLS17 IPO_aligned_MTBLS17_pos_exp3\n",
      "MTBLS17 Peaklist_EXP1_POS\n",
      "MTBLS17 Peaklist_EXP2_POS\n",
      "MTBLS17 Peaklist_EXP3_POS\n",
      "MTBLS17 Peaklist_EXP1_NEG\n",
      "MTBLS17 Peaklist_EXP2_NEG\n",
      "MTBLS17 Peaklist_EXP3_NEG\n",
      "MTBLS191 IPO_aligned_MTBLS191\n",
      "MTBLS19 Exp1F_POS\n",
      "MTBLS19 Exp1R_POS\n",
      "MTBLS19 Exp2F_POS\n",
      "MTBLS19 Exp2R_POS\n",
      "MTBLS19 Exp1F_NEG\n",
      "MTBLS19 Exp1R_NEG\n",
      "MTBLS19 Exp2F_NEG\n",
      "MTBLS19 Exp2R_NEG\n",
      "MTBLS19 IPO_aligned_MTBLS19_neg_exp1_F\n",
      "MTBLS19 IPO_aligned_MTBLS19_neg_exp1_R\n",
      "MTBLS19 IPO_aligned_MTBLS19_neg_exp2_F\n",
      "MTBLS19 IPO_aligned_MTBLS19_neg_exp2_R\n",
      "MTBLS19 IPO_aligned_MTBLS19_pos_exp1_F\n",
      "MTBLS19 IPO_aligned_MTBLS19_pos_exp1_R\n",
      "MTBLS19 IPO_aligned_MTBLS19_pos_exp2_F\n",
      "MTBLS19 IPO_aligned_MTBLS19_pos_exp2_R\n"
     ]
    },
    {
     "name": "stderr",
     "output_type": "stream",
     "text": [
      "No handles with labels found to put in legend.\n",
      "No handles with labels found to put in legend.\n"
     ]
    },
    {
     "name": "stdout",
     "output_type": "stream",
     "text": [
      "MTBLS218 IPO_aligned_MTBLS218\n",
      "MTBLS253 m_oxylipin_chronic_hep_b\n"
     ]
    },
    {
     "name": "stderr",
     "output_type": "stream",
     "text": [
      "No handles with labels found to put in legend.\n"
     ]
    },
    {
     "name": "stdout",
     "output_type": "stream",
     "text": [
      "MTBLS266 m_mtbls266_NEG_mass_spectrometry_v2_maf\n",
      "MTBLS266 m_mtbls266_POS_mass_spectrometry_v2_maf\n",
      "MTBLS266 IPO_aligned_MTBLS266_neg\n",
      "MTBLS266 IPO_aligned_MTBLS266_pos\n",
      "MTBLS279 m_chronic_hep_b_POS\n",
      "MTBLS279 m_chronic_hep_b_NEG\n",
      "MTBLS28 m_mtbls28_NEG_v2_maf\n",
      "MTBLS28 m_mtbls28_POS_v2_maf\n",
      "MTBLS28 IPO_aligned_MTBLS28_neg\n",
      "MTBLS28 IPO_aligned_MTBLS28_pos\n",
      "MTBLS315 m_GC_nmfi_and_bsi_diagnosis_v2_maf\n",
      "MTBLS315 m_LC_nmfi_and_bsi_diagnosis_v2_maf\n",
      "MTBLS315 m_UPLC_NEG_nmfi_and_bsi_diagnosis_v2_maf\n",
      "MTBLS315 m_UPLC_POS_nmfi_and_bsi_diagnosis_v2_maf\n",
      "MTBLS315 IPO_aligned_MTBLS315_mzData\n",
      "MTBLS315 IPO_aligned_MTBLS315_mzXML\n",
      "MTBLS315 IPO_aligned_MTBLS315_n_mzML\n",
      "MTBLS315 IPO_aligned_MTBLS315_p_mzML\n",
      "MTBLS315 XCMS-Report-annotated-SingleClass-CDF.\n",
      "MTBLS315 XCMS-Report-annotated-SingleClass-n_mzML.\n",
      "MTBLS352 DEMO_neg-norm-metaboAnalystInput\n",
      "MTBLS352 DEMO_pos-norm-metaboAnalystInput\n",
      "MTBLS352 IPO_aligned_MTBLS352_neg\n",
      "MTBLS354 m_cap_metabolite_profiling_mass_spectrometry_v2_maf\n",
      "MTBLS354 m_cap_metabolite_profiling_mass_spectrometry-1_v2_maf\n",
      "MTBLS354 IPO_aligned_MTBLS354_neg\n",
      "MTBLS354 IPO_aligned_MTBLS354_pos\n",
      "MTBLS358 m_CER_mass_spectrometry_v4\n",
      "MTBLS358 m_EICO_mass_spectrometry_v4\n",
      "MTBLS358 m_SHOT_mass_spectrometry_v4\n",
      "MTBLS358 m_TAG_mass_spectrometry_v4\n",
      "MTBLS364 IPO_aligned_MTBLS364_hil_neg\n",
      "MTBLS364 IPO_aligned_MTBLS364_hil_pos\n",
      "MTBLS364 IPO_aligned_MTBLS364_lip_neg\n",
      "MTBLS364 IPO_aligned_MTBLS364_lip_pos\n"
     ]
    },
    {
     "name": "stderr",
     "output_type": "stream",
     "text": [
      "/home/ubuntu/data/anaconda3/lib/python3.6/site-packages/matplotlib/pyplot.py:537: RuntimeWarning: More than 20 figures have been opened. Figures created through the pyplot interface (`matplotlib.pyplot.figure`) are retained until explicitly closed and may consume too much memory. (To control this warning, see the rcParam `figure.max_open_warning`).\n",
      "  max_open_warning, RuntimeWarning)\n"
     ]
    },
    {
     "name": "stdout",
     "output_type": "stream",
     "text": [
      "MTBLS404 QC1\n",
      "MTBLS404 IPO_aligned_MTBLS404_neg\n",
      "MTBLS408 IPO_aligned_MTBLS408_neg\n",
      "MTBLS408 IPO_aligned_MTBLS408_pos\n",
      "MTBLS423 Author data\n",
      "MTBLS423 IPO_aligned_MTBLS423\n",
      "MTBLS579 m_typhoid_carriage_metabolite_profiling_mass_spectrometry_v2_maf\n",
      "MTBLS665 m_huc_c18neg\n",
      "MTBLS665 m_huc_hilicpos\n",
      "MTBLS665 IPO_aligned_MTBLS665_c18\n",
      "MTBLS665 IPO_aligned_MTBLS665_hilic\n",
      "MTBLS72 IPO_aligned_MTBLS72_neg\n",
      "MTBLS72 IPO_aligned_MTBLS72_pos\n",
      "MTBLS92 IPO_aligned_MTBLS92\n",
      "MTBLS92 Author_data\n",
      "ST000045 02Feb10-21-r0\n",
      "ST000045 11Feb10-21-r0\n",
      "ST000045 11March10-21-r0\n",
      "ST000045 17March10-21-r0\n",
      "ST000045 IPO_aligned_ST000045_2feb_pos\n",
      "ST000045 IPO_aligned_ST000045_11feb_neg\n",
      "ST000045 IPO_aligned_ST000045_11mar_pos\n",
      "ST000045 IPO_aligned_ST000045_17mar_neg\n",
      "ST000046 AN000076\n",
      "ST000046 AN000077\n",
      "ST000046 AN000078\n",
      "ST000046 AN000079\n",
      "ST000046 IPO_aligned_ST000046_20120606_neg_hilic\n",
      "ST000046 IPO_aligned_ST000046_20120613_neg_hilic\n",
      "ST000046 IPO_aligned_ST000046_20120618_pos_c18\n",
      "ST000046 IPO_aligned_ST000046_20120620_neg_c18\n",
      "ST000046 IPO_aligned_ST000046_20120625_pos_c18\n",
      "ST000046 XCMS-Report-annotated-SingleClass.04jun12\n",
      "ST000046 XCMS-Report-annotated-SingleClass.11jun12\n",
      "ST000046 XCMS-Report-annotated-SingleClass.27jun12\n",
      "ST000063 AN000101\n",
      "ST000063 XCMS-Report-annotated-SingleClass.\n",
      "ST000063 XCMS-Report-annotated-SingleClass-GCTOF.\n",
      "ST000284 AN000452\n",
      "ST000329 AN000525\n",
      "ST000329 AN000526\n",
      "ST000329 IPO_aligned_ST000329_pos\n",
      "ST000329 IPO_aligned_ST000329_neg\n",
      "ST000355 AN000580\n",
      "ST000355 AN000581\n",
      "ST000356 AN000582\n",
      "ST000356 AN000583\n",
      "ST000381 AN000615\n",
      "ST000381 AN000616\n",
      "ST000381 AN000617\n",
      "ST000381 IPO_aligned_ST000381_pos\n",
      "ST000383 AN000618\n",
      "ST000385 AN000603_plasma\n",
      "ST000385 AN000603_serum\n",
      "ST000385 AN000620_plasma\n",
      "ST000385 AN000620_serum\n",
      "ST000385 IPO_aligned_ST000385_adc1_plasma\n",
      "ST000385 IPO_aligned_ST000385_adc1_serum\n",
      "ST000385 IPO_aligned_ST000385_adc2_plasma\n",
      "ST000385 IPO_aligned_ST000385_adc2_serum\n",
      "ST000388 AN000624_LC\n",
      "ST000388 IPO_aligned_ST000388_LC\n",
      "ST000389 AN000625_GC\n",
      "ST000389 IPO_aligned_ST000388_GC\n",
      "ST000392 AN000628_plasma\n",
      "ST000392 AN000628_serum\n",
      "ST000392 IPO_aligned_ST000392_plasma\n",
      "ST000392 IPO_aligned_ST000392_serum\n",
      "ST000396 AN000633\n",
      "ST000396 IPO_aligned_ST000396\n"
     ]
    },
    {
     "name": "stderr",
     "output_type": "stream",
     "text": [
      "No handles with labels found to put in legend.\n"
     ]
    },
    {
     "name": "stdout",
     "output_type": "stream",
     "text": [
      "ST000421 13jan12_57-r0-Poor glycemic control\n",
      "ST000421 09feb12_57-r0-Poor glycemic control\n",
      "ST000421 16feb12_57-r0-Poor glycemic control\n",
      "ST000421 14feb12_57-r0-Poor glycemic control\n",
      "ST000421 10jan12_62-r0-Good glycemic control\n",
      "ST000421 08feb12_62-r0-Good glycemic control\n",
      "ST000421 15feb12_62-r0-Good glycemic control\n",
      "ST000421 13feb12_62-r0-Good glycemic control\n",
      "ST000421 IPO_aligned_ST000421_n_hil\n",
      "ST000421 IPO_aligned_ST000421_p_hil\n",
      "ST000421 IPO_aligned_ST000421_nc18\n",
      "ST000421 IPO_aligned_ST000421_pc18\n",
      "ST000450 AN000705\n",
      "ST000450 AN000706\n",
      "ST000578 AN000888\n",
      "ST000578 AN000889\n",
      "ST000578 IPO_aligned_ST000578_AE\n",
      "ST000578 IPO_aligned_ST000578_C18\n",
      "ST000608 AN000929\n",
      "ST000608 AN000930\n",
      "ST000608 AN000931\n",
      "ST000726 AN001138-Negative\n",
      "ST000726 AN001139-Positive\n",
      "ST000726 IPO_aligned_ST000726_neg\n",
      "ST000726 IPO_aligned_ST000726_pos\n",
      "ST000763 AN001201\n",
      "ST000763 AN001202\n",
      "ST000763 IPO_aligned_ST000763_untar_neg\n",
      "ST000763 IPO_aligned_ST000763_untar_pos\n",
      "ST000865 AN001390\n",
      "ST000865 IPO_aligned_ST000865_batch2\n",
      "ST000865 IPO_aligned_ST000865_batch3\n",
      "ST000888 AN001450\n",
      "ST000918 AN001503\n"
     ]
    },
    {
     "name": "stderr",
     "output_type": "stream",
     "text": [
      "No handles with labels found to put in legend.\n"
     ]
    },
    {
     "data": {
      "text/plain": [
       "<Figure size 576x360 with 0 Axes>"
      ]
     },
     "metadata": {},
     "output_type": "display_data"
    },
    {
     "data": {
      "text/plain": [
       "<Figure size 576x360 with 0 Axes>"
      ]
     },
     "metadata": {},
     "output_type": "display_data"
    },
    {
     "data": {
      "text/plain": [
       "<Figure size 576x360 with 0 Axes>"
      ]
     },
     "metadata": {},
     "output_type": "display_data"
    },
    {
     "data": {
      "text/plain": [
       "<Figure size 576x360 with 0 Axes>"
      ]
     },
     "metadata": {},
     "output_type": "display_data"
    },
    {
     "data": {
      "text/plain": [
       "<Figure size 576x360 with 0 Axes>"
      ]
     },
     "metadata": {},
     "output_type": "display_data"
    },
    {
     "data": {
      "text/plain": [
       "<Figure size 576x360 with 0 Axes>"
      ]
     },
     "metadata": {},
     "output_type": "display_data"
    },
    {
     "data": {
      "text/plain": [
       "<Figure size 576x360 with 0 Axes>"
      ]
     },
     "metadata": {},
     "output_type": "display_data"
    },
    {
     "data": {
      "text/plain": [
       "<Figure size 576x360 with 0 Axes>"
      ]
     },
     "metadata": {},
     "output_type": "display_data"
    },
    {
     "data": {
      "text/plain": [
       "<Figure size 576x360 with 0 Axes>"
      ]
     },
     "metadata": {},
     "output_type": "display_data"
    },
    {
     "data": {
      "text/plain": [
       "<Figure size 576x360 with 0 Axes>"
      ]
     },
     "metadata": {},
     "output_type": "display_data"
    },
    {
     "data": {
      "text/plain": [
       "<Figure size 576x360 with 0 Axes>"
      ]
     },
     "metadata": {},
     "output_type": "display_data"
    },
    {
     "data": {
      "text/plain": [
       "<Figure size 576x360 with 0 Axes>"
      ]
     },
     "metadata": {},
     "output_type": "display_data"
    },
    {
     "data": {
      "text/plain": [
       "<Figure size 576x360 with 0 Axes>"
      ]
     },
     "metadata": {},
     "output_type": "display_data"
    },
    {
     "data": {
      "text/plain": [
       "<Figure size 576x360 with 0 Axes>"
      ]
     },
     "metadata": {},
     "output_type": "display_data"
    },
    {
     "data": {
      "text/plain": [
       "<Figure size 576x360 with 0 Axes>"
      ]
     },
     "metadata": {},
     "output_type": "display_data"
    },
    {
     "data": {
      "text/plain": [
       "<Figure size 576x360 with 0 Axes>"
      ]
     },
     "metadata": {},
     "output_type": "display_data"
    },
    {
     "data": {
      "text/plain": [
       "<Figure size 576x360 with 0 Axes>"
      ]
     },
     "metadata": {},
     "output_type": "display_data"
    },
    {
     "data": {
      "text/plain": [
       "<Figure size 576x360 with 0 Axes>"
      ]
     },
     "metadata": {},
     "output_type": "display_data"
    },
    {
     "data": {
      "text/plain": [
       "<Figure size 576x360 with 0 Axes>"
      ]
     },
     "metadata": {},
     "output_type": "display_data"
    },
    {
     "data": {
      "text/plain": [
       "<Figure size 576x360 with 0 Axes>"
      ]
     },
     "metadata": {},
     "output_type": "display_data"
    },
    {
     "data": {
      "text/plain": [
       "<Figure size 576x360 with 0 Axes>"
      ]
     },
     "metadata": {},
     "output_type": "display_data"
    },
    {
     "data": {
      "text/plain": [
       "<Figure size 576x360 with 0 Axes>"
      ]
     },
     "metadata": {},
     "output_type": "display_data"
    },
    {
     "data": {
      "text/plain": [
       "<Figure size 576x360 with 0 Axes>"
      ]
     },
     "metadata": {},
     "output_type": "display_data"
    },
    {
     "data": {
      "text/plain": [
       "<Figure size 576x360 with 0 Axes>"
      ]
     },
     "metadata": {},
     "output_type": "display_data"
    },
    {
     "data": {
      "text/plain": [
       "<Figure size 576x360 with 0 Axes>"
      ]
     },
     "metadata": {},
     "output_type": "display_data"
    },
    {
     "data": {
      "text/plain": [
       "<Figure size 576x360 with 0 Axes>"
      ]
     },
     "metadata": {},
     "output_type": "display_data"
    },
    {
     "data": {
      "text/plain": [
       "<Figure size 576x360 with 0 Axes>"
      ]
     },
     "metadata": {},
     "output_type": "display_data"
    },
    {
     "data": {
      "text/plain": [
       "<Figure size 576x360 with 0 Axes>"
      ]
     },
     "metadata": {},
     "output_type": "display_data"
    },
    {
     "data": {
      "text/plain": [
       "<Figure size 576x360 with 0 Axes>"
      ]
     },
     "metadata": {},
     "output_type": "display_data"
    },
    {
     "data": {
      "text/plain": [
       "<Figure size 576x360 with 0 Axes>"
      ]
     },
     "metadata": {},
     "output_type": "display_data"
    },
    {
     "data": {
      "text/plain": [
       "<Figure size 576x360 with 0 Axes>"
      ]
     },
     "metadata": {},
     "output_type": "display_data"
    },
    {
     "data": {
      "text/plain": [
       "<Figure size 576x360 with 0 Axes>"
      ]
     },
     "metadata": {},
     "output_type": "display_data"
    },
    {
     "data": {
      "text/plain": [
       "<Figure size 576x360 with 0 Axes>"
      ]
     },
     "metadata": {},
     "output_type": "display_data"
    },
    {
     "data": {
      "text/plain": [
       "<Figure size 576x360 with 0 Axes>"
      ]
     },
     "metadata": {},
     "output_type": "display_data"
    },
    {
     "data": {
      "text/plain": [
       "<Figure size 576x360 with 0 Axes>"
      ]
     },
     "metadata": {},
     "output_type": "display_data"
    },
    {
     "data": {
      "text/plain": [
       "<Figure size 576x360 with 0 Axes>"
      ]
     },
     "metadata": {},
     "output_type": "display_data"
    },
    {
     "data": {
      "text/plain": [
       "<Figure size 576x360 with 0 Axes>"
      ]
     },
     "metadata": {},
     "output_type": "display_data"
    },
    {
     "data": {
      "text/plain": [
       "<Figure size 576x360 with 0 Axes>"
      ]
     },
     "metadata": {},
     "output_type": "display_data"
    },
    {
     "data": {
      "text/plain": [
       "<Figure size 576x360 with 0 Axes>"
      ]
     },
     "metadata": {},
     "output_type": "display_data"
    },
    {
     "data": {
      "text/plain": [
       "<Figure size 576x360 with 0 Axes>"
      ]
     },
     "metadata": {},
     "output_type": "display_data"
    },
    {
     "data": {
      "text/plain": [
       "<Figure size 576x360 with 0 Axes>"
      ]
     },
     "metadata": {},
     "output_type": "display_data"
    },
    {
     "data": {
      "text/plain": [
       "<Figure size 576x360 with 0 Axes>"
      ]
     },
     "metadata": {},
     "output_type": "display_data"
    },
    {
     "data": {
      "text/plain": [
       "<Figure size 576x360 with 0 Axes>"
      ]
     },
     "metadata": {},
     "output_type": "display_data"
    },
    {
     "data": {
      "text/plain": [
       "<Figure size 576x360 with 0 Axes>"
      ]
     },
     "metadata": {},
     "output_type": "display_data"
    },
    {
     "data": {
      "text/plain": [
       "<Figure size 576x360 with 0 Axes>"
      ]
     },
     "metadata": {},
     "output_type": "display_data"
    },
    {
     "data": {
      "text/plain": [
       "<Figure size 576x360 with 0 Axes>"
      ]
     },
     "metadata": {},
     "output_type": "display_data"
    },
    {
     "data": {
      "text/plain": [
       "<Figure size 576x360 with 0 Axes>"
      ]
     },
     "metadata": {},
     "output_type": "display_data"
    },
    {
     "data": {
      "text/plain": [
       "<Figure size 576x360 with 0 Axes>"
      ]
     },
     "metadata": {},
     "output_type": "display_data"
    },
    {
     "data": {
      "text/plain": [
       "<Figure size 576x360 with 0 Axes>"
      ]
     },
     "metadata": {},
     "output_type": "display_data"
    },
    {
     "data": {
      "text/plain": [
       "<Figure size 576x360 with 0 Axes>"
      ]
     },
     "metadata": {},
     "output_type": "display_data"
    },
    {
     "data": {
      "text/plain": [
       "<Figure size 576x360 with 0 Axes>"
      ]
     },
     "metadata": {},
     "output_type": "display_data"
    },
    {
     "data": {
      "text/plain": [
       "<Figure size 576x360 with 0 Axes>"
      ]
     },
     "metadata": {},
     "output_type": "display_data"
    }
   ],
   "source": [
    "# loose outcome: really no positive or negative bonus to doing this type of filtering\n",
    "for k, v in datasets.items():  \n",
    "    plt.figure(figsize=(8,5))\n",
    "    for ds in v:\n",
    "        if k in ['MTBLS148','MTBLS200', 'MTBLS20', 'ST000397', 'MTBLS264', 'snyder']:\n",
    "            ds['p_auc'] = []\n",
    "            ds['p_std'] = [] # use len(ds['p_auc']) to pass these during plotting\n",
    "            continue\n",
    "#         if k != 'ST000063':\n",
    "#             continue\n",
    "#         if 'IPO' not in ds['data_set']:\n",
    "#             continue\n",
    "            \n",
    "        ds['labels'] = ds['labels']*1\n",
    "        vals = ds['labels'].values\n",
    "        try:\n",
    "            vals = [item for sublist in vals for item in sublist]\n",
    "        except:\n",
    "            pass\n",
    "        labels = set(vals)\n",
    "        ds['num_labels'] = len(labels)\n",
    "\n",
    "        if ds['data_set'] == 'IPO_aligned_MTBLS92':\n",
    "            f = [fi for fi in list(ds['features'].index) if '163' in fi]\n",
    "            ds['features'] = ds['features'].loc[f]\n",
    "            ds['labels'] = ds['labels'].loc[f]\n",
    "        if ds['study'] == 'MTBLS92' and ds['data_set'] == 'Author_data':\n",
    "            f = [fi for fi in list(ds['features'].index) if 'A' in fi]\n",
    "            ds['features'] = ds['features'].loc[f]\n",
    "            ds['labels'] = ds['labels'].loc[f]\n",
    "        print(k, ds['data_set'])    \n",
    "        \n",
    "\n",
    "        #define the number of repeats for each level of subsetting\n",
    "        percents = [0, 0.3, 0.4, 0.5, 0.6, 0.7, 0.8, 0.9, 1] # levels of subsetting\n",
    "        ds['p_auc'] = []\n",
    "        ds['p_std'] = []\n",
    "        ds['feature_count'] = []\n",
    "        unique_p = []\n",
    "        unique_shapes = []\n",
    "        for p in percents:\n",
    "            X = ds['features'].values.copy()\n",
    "            ds['max_features'] = X.shape[1]\n",
    "            y = ds['labels'].values.copy().ravel().astype(int)\n",
    "            X = convert_nan_to_val(X, value=0)\n",
    "            X[np.isinf(X)] = 0\n",
    "            col_keep = []\n",
    "            for i in range(X.shape[1]):\n",
    "                if np.count_nonzero(X[:,i]) >= int(p*X.shape[0]):\n",
    "                    col_keep.append(i)\n",
    "            if len(col_keep) < 2:\n",
    "                continue\n",
    "            X = X[:,col_keep]\n",
    "            ds['feature_count'].append(X.shape[1])\n",
    "            # for log transform:\n",
    "            if 'IPO' in ds['data_set'] or 'XCMS' in ds['data_set']:\n",
    "                X[X==0] = 1\n",
    "                X = np.log2(X)\n",
    "            auc_mean, auc_std = l1_log_reg(X,y,ds)\n",
    "            ds['p_auc'].append(auc_mean)\n",
    "            ds['p_std'].append(auc_std)\n",
    "# #         plt.plot(percents, ds['p_auc'], label=ds['data_set'])\n",
    "        plt.errorbar(np.asarray(ds['feature_count'])/ds['max_features'], ds['p_auc'], ds['p_std'], marker='.', label=ds['data_set']+' '+str(X.shape[1]))\n",
    "# #         plt.legend(bbox_to_anchor=(1, 0.5))\n",
    "    plt.legend()\n",
    "    plt.xlabel('Fraction of features used for model')\n",
    "    plt.ylabel('AUC')  \n",
    "    plt.title(k)\n",
    "#     plt.show()\n",
    "# #     plt.tight_layout()\n",
    "    plt.savefig('./fraction_not_0/'+k)\n",
    "    plt.gcf().clear()"
   ]
  },
  {
   "cell_type": "markdown",
   "metadata": {},
   "source": [
    "# Filter based on feature avg intensity > X\n",
    "what about filtering a row if the max is <x? might be a way to remove features that are small all around...\n",
    "or maybe where the max - min diff is > some value?\n",
    "\n",
    "# NOTE: the cell below has 3 main ways of running, see inside\n"
   ]
  },
  {
   "cell_type": "code",
   "execution_count": 15,
   "metadata": {},
   "outputs": [
    {
     "name": "stdout",
     "output_type": "stream",
     "text": [
      "Feng serum_IPO_aligned_Feng_serum_batch1\n",
      "Feng serum_IPO_aligned_Feng_serum_batch2\n",
      "Feng urine_IPO_aligned_Feng_urine_batch1\n",
      "Feng urine_IPO_aligned_Feng_urine_batch2\n",
      "MTBLS105 IPO_aligned_MTBLS105_qMS\n",
      "MTBLS105 IPO_aligned_MTBLS105_SIM-MS\n",
      "MTBLS146 IPO_aligned_MTBLS146_global_neg\n",
      "MTBLS146 IPO_aligned_MTBLS146_global_pos\n"
     ]
    },
    {
     "name": "stderr",
     "output_type": "stream",
     "text": [
      "No handles with labels found to put in legend.\n"
     ]
    },
    {
     "name": "stdout",
     "output_type": "stream",
     "text": [
      "MTBLS17 IPO_aligned_MTBLS17_neg_exp1\n",
      "MTBLS17 IPO_aligned_MTBLS17_neg_exp2\n",
      "MTBLS17 IPO_aligned_MTBLS17_neg_exp3\n",
      "MTBLS17 IPO_aligned_MTBLS17_pos_exp1\n",
      "MTBLS17 IPO_aligned_MTBLS17_pos_exp2\n",
      "MTBLS17 IPO_aligned_MTBLS17_pos_exp3\n",
      "MTBLS191 IPO_aligned_MTBLS191\n",
      "MTBLS19 IPO_aligned_MTBLS19_neg_exp1_F\n",
      "MTBLS19 IPO_aligned_MTBLS19_neg_exp1_R\n",
      "MTBLS19 IPO_aligned_MTBLS19_neg_exp2_F\n",
      "MTBLS19 IPO_aligned_MTBLS19_neg_exp2_R\n",
      "MTBLS19 IPO_aligned_MTBLS19_pos_exp1_F\n",
      "MTBLS19 IPO_aligned_MTBLS19_pos_exp1_R\n",
      "MTBLS19 IPO_aligned_MTBLS19_pos_exp2_F\n",
      "MTBLS19 IPO_aligned_MTBLS19_pos_exp2_R\n"
     ]
    },
    {
     "name": "stderr",
     "output_type": "stream",
     "text": [
      "No handles with labels found to put in legend.\n",
      "No handles with labels found to put in legend.\n"
     ]
    },
    {
     "name": "stdout",
     "output_type": "stream",
     "text": [
      "MTBLS218 IPO_aligned_MTBLS218\n"
     ]
    },
    {
     "name": "stderr",
     "output_type": "stream",
     "text": [
      "No handles with labels found to put in legend.\n",
      "No handles with labels found to put in legend.\n"
     ]
    },
    {
     "name": "stdout",
     "output_type": "stream",
     "text": [
      "MTBLS266 IPO_aligned_MTBLS266_neg\n",
      "MTBLS266 IPO_aligned_MTBLS266_pos\n"
     ]
    },
    {
     "name": "stderr",
     "output_type": "stream",
     "text": [
      "No handles with labels found to put in legend.\n"
     ]
    },
    {
     "name": "stdout",
     "output_type": "stream",
     "text": [
      "MTBLS28 IPO_aligned_MTBLS28_neg\n",
      "MTBLS28 IPO_aligned_MTBLS28_pos\n",
      "MTBLS315 IPO_aligned_MTBLS315_mzData\n",
      "MTBLS315 IPO_aligned_MTBLS315_mzXML\n",
      "MTBLS315 IPO_aligned_MTBLS315_n_mzML\n",
      "MTBLS315 IPO_aligned_MTBLS315_p_mzML\n",
      "MTBLS315 XCMS-Report-annotated-SingleClass-CDF.\n",
      "MTBLS315 XCMS-Report-annotated-SingleClass-n_mzML.\n",
      "MTBLS352 IPO_aligned_MTBLS352_neg\n",
      "MTBLS354 IPO_aligned_MTBLS354_neg\n",
      "MTBLS354 IPO_aligned_MTBLS354_pos\n"
     ]
    },
    {
     "name": "stderr",
     "output_type": "stream",
     "text": [
      "No handles with labels found to put in legend.\n"
     ]
    },
    {
     "name": "stdout",
     "output_type": "stream",
     "text": [
      "MTBLS364 IPO_aligned_MTBLS364_hil_neg\n",
      "MTBLS364 IPO_aligned_MTBLS364_hil_pos\n",
      "MTBLS364 IPO_aligned_MTBLS364_lip_neg\n",
      "MTBLS364 IPO_aligned_MTBLS364_lip_pos\n"
     ]
    },
    {
     "name": "stderr",
     "output_type": "stream",
     "text": [
      "/home/ubuntu/data/anaconda3/lib/python3.6/site-packages/matplotlib/pyplot.py:537: RuntimeWarning: More than 20 figures have been opened. Figures created through the pyplot interface (`matplotlib.pyplot.figure`) are retained until explicitly closed and may consume too much memory. (To control this warning, see the rcParam `figure.max_open_warning`).\n",
      "  max_open_warning, RuntimeWarning)\n"
     ]
    },
    {
     "name": "stdout",
     "output_type": "stream",
     "text": [
      "MTBLS404 IPO_aligned_MTBLS404_neg\n",
      "MTBLS408 IPO_aligned_MTBLS408_neg\n",
      "MTBLS408 IPO_aligned_MTBLS408_pos\n",
      "MTBLS423 IPO_aligned_MTBLS423\n"
     ]
    },
    {
     "name": "stderr",
     "output_type": "stream",
     "text": [
      "No handles with labels found to put in legend.\n"
     ]
    },
    {
     "name": "stdout",
     "output_type": "stream",
     "text": [
      "MTBLS665 IPO_aligned_MTBLS665_c18\n",
      "MTBLS665 IPO_aligned_MTBLS665_hilic\n",
      "MTBLS72 IPO_aligned_MTBLS72_neg\n",
      "MTBLS72 IPO_aligned_MTBLS72_pos\n",
      "MTBLS92 IPO_aligned_MTBLS92\n",
      "ST000045 IPO_aligned_ST000045_2feb_pos\n",
      "ST000045 IPO_aligned_ST000045_11feb_neg\n",
      "ST000045 IPO_aligned_ST000045_11mar_pos\n",
      "ST000045 IPO_aligned_ST000045_17mar_neg\n",
      "ST000046 IPO_aligned_ST000046_20120606_neg_hilic\n",
      "ST000046 IPO_aligned_ST000046_20120613_neg_hilic\n",
      "ST000046 IPO_aligned_ST000046_20120618_pos_c18\n",
      "ST000046 IPO_aligned_ST000046_20120620_neg_c18\n",
      "ST000046 IPO_aligned_ST000046_20120625_pos_c18\n",
      "ST000046 XCMS-Report-annotated-SingleClass.04jun12\n",
      "ST000046 XCMS-Report-annotated-SingleClass.11jun12\n",
      "ST000046 XCMS-Report-annotated-SingleClass.27jun12\n",
      "ST000063 XCMS-Report-annotated-SingleClass.\n",
      "ST000063 XCMS-Report-annotated-SingleClass-GCTOF.\n"
     ]
    },
    {
     "name": "stderr",
     "output_type": "stream",
     "text": [
      "No handles with labels found to put in legend.\n"
     ]
    },
    {
     "name": "stdout",
     "output_type": "stream",
     "text": [
      "ST000329 IPO_aligned_ST000329_pos\n",
      "ST000329 IPO_aligned_ST000329_neg\n"
     ]
    },
    {
     "name": "stderr",
     "output_type": "stream",
     "text": [
      "No handles with labels found to put in legend.\n",
      "No handles with labels found to put in legend.\n"
     ]
    },
    {
     "name": "stdout",
     "output_type": "stream",
     "text": [
      "ST000381 IPO_aligned_ST000381_pos\n"
     ]
    },
    {
     "name": "stderr",
     "output_type": "stream",
     "text": [
      "No handles with labels found to put in legend.\n"
     ]
    },
    {
     "name": "stdout",
     "output_type": "stream",
     "text": [
      "ST000385 IPO_aligned_ST000385_adc1_plasma\n",
      "ST000385 IPO_aligned_ST000385_adc1_serum\n",
      "ST000385 IPO_aligned_ST000385_adc2_plasma\n",
      "ST000385 IPO_aligned_ST000385_adc2_serum\n",
      "ST000388 IPO_aligned_ST000388_LC\n",
      "ST000389 IPO_aligned_ST000388_GC\n",
      "ST000392 IPO_aligned_ST000392_plasma\n",
      "ST000392 IPO_aligned_ST000392_serum\n",
      "ST000396 IPO_aligned_ST000396\n"
     ]
    },
    {
     "name": "stderr",
     "output_type": "stream",
     "text": [
      "No handles with labels found to put in legend.\n"
     ]
    },
    {
     "name": "stdout",
     "output_type": "stream",
     "text": [
      "ST000421 IPO_aligned_ST000421_n_hil\n",
      "ST000421 IPO_aligned_ST000421_p_hil\n",
      "ST000421 IPO_aligned_ST000421_nc18\n",
      "ST000421 IPO_aligned_ST000421_pc18\n"
     ]
    },
    {
     "name": "stderr",
     "output_type": "stream",
     "text": [
      "No handles with labels found to put in legend.\n"
     ]
    },
    {
     "name": "stdout",
     "output_type": "stream",
     "text": [
      "ST000578 IPO_aligned_ST000578_AE\n",
      "ST000578 IPO_aligned_ST000578_C18\n"
     ]
    },
    {
     "name": "stderr",
     "output_type": "stream",
     "text": [
      "No handles with labels found to put in legend.\n"
     ]
    },
    {
     "name": "stdout",
     "output_type": "stream",
     "text": [
      "ST000726 IPO_aligned_ST000726_neg\n",
      "ST000726 IPO_aligned_ST000726_pos\n",
      "ST000763 IPO_aligned_ST000763_untar_neg\n",
      "ST000763 IPO_aligned_ST000763_untar_pos\n",
      "ST000865 IPO_aligned_ST000865_batch2\n",
      "ST000865 IPO_aligned_ST000865_batch3\n"
     ]
    },
    {
     "name": "stderr",
     "output_type": "stream",
     "text": [
      "No handles with labels found to put in legend.\n",
      "No handles with labels found to put in legend.\n",
      "No handles with labels found to put in legend.\n"
     ]
    },
    {
     "data": {
      "text/plain": [
       "<Figure size 576x360 with 0 Axes>"
      ]
     },
     "metadata": {},
     "output_type": "display_data"
    },
    {
     "data": {
      "text/plain": [
       "<Figure size 576x360 with 0 Axes>"
      ]
     },
     "metadata": {},
     "output_type": "display_data"
    },
    {
     "data": {
      "text/plain": [
       "<Figure size 576x360 with 0 Axes>"
      ]
     },
     "metadata": {},
     "output_type": "display_data"
    },
    {
     "data": {
      "text/plain": [
       "<Figure size 576x360 with 0 Axes>"
      ]
     },
     "metadata": {},
     "output_type": "display_data"
    },
    {
     "data": {
      "text/plain": [
       "<Figure size 576x360 with 0 Axes>"
      ]
     },
     "metadata": {},
     "output_type": "display_data"
    },
    {
     "data": {
      "text/plain": [
       "<Figure size 576x360 with 0 Axes>"
      ]
     },
     "metadata": {},
     "output_type": "display_data"
    },
    {
     "data": {
      "text/plain": [
       "<Figure size 576x360 with 0 Axes>"
      ]
     },
     "metadata": {},
     "output_type": "display_data"
    },
    {
     "data": {
      "text/plain": [
       "<Figure size 576x360 with 0 Axes>"
      ]
     },
     "metadata": {},
     "output_type": "display_data"
    },
    {
     "data": {
      "text/plain": [
       "<Figure size 576x360 with 0 Axes>"
      ]
     },
     "metadata": {},
     "output_type": "display_data"
    },
    {
     "data": {
      "text/plain": [
       "<Figure size 576x360 with 0 Axes>"
      ]
     },
     "metadata": {},
     "output_type": "display_data"
    },
    {
     "data": {
      "text/plain": [
       "<Figure size 576x360 with 0 Axes>"
      ]
     },
     "metadata": {},
     "output_type": "display_data"
    },
    {
     "data": {
      "text/plain": [
       "<Figure size 576x360 with 0 Axes>"
      ]
     },
     "metadata": {},
     "output_type": "display_data"
    },
    {
     "data": {
      "text/plain": [
       "<Figure size 576x360 with 0 Axes>"
      ]
     },
     "metadata": {},
     "output_type": "display_data"
    },
    {
     "data": {
      "text/plain": [
       "<Figure size 576x360 with 0 Axes>"
      ]
     },
     "metadata": {},
     "output_type": "display_data"
    },
    {
     "data": {
      "text/plain": [
       "<Figure size 576x360 with 0 Axes>"
      ]
     },
     "metadata": {},
     "output_type": "display_data"
    },
    {
     "data": {
      "text/plain": [
       "<Figure size 576x360 with 0 Axes>"
      ]
     },
     "metadata": {},
     "output_type": "display_data"
    },
    {
     "data": {
      "text/plain": [
       "<Figure size 576x360 with 0 Axes>"
      ]
     },
     "metadata": {},
     "output_type": "display_data"
    },
    {
     "data": {
      "text/plain": [
       "<Figure size 576x360 with 0 Axes>"
      ]
     },
     "metadata": {},
     "output_type": "display_data"
    },
    {
     "data": {
      "text/plain": [
       "<Figure size 576x360 with 0 Axes>"
      ]
     },
     "metadata": {},
     "output_type": "display_data"
    },
    {
     "data": {
      "text/plain": [
       "<Figure size 576x360 with 0 Axes>"
      ]
     },
     "metadata": {},
     "output_type": "display_data"
    },
    {
     "data": {
      "text/plain": [
       "<Figure size 576x360 with 0 Axes>"
      ]
     },
     "metadata": {},
     "output_type": "display_data"
    },
    {
     "data": {
      "text/plain": [
       "<Figure size 576x360 with 0 Axes>"
      ]
     },
     "metadata": {},
     "output_type": "display_data"
    },
    {
     "data": {
      "text/plain": [
       "<Figure size 576x360 with 0 Axes>"
      ]
     },
     "metadata": {},
     "output_type": "display_data"
    },
    {
     "data": {
      "text/plain": [
       "<Figure size 576x360 with 0 Axes>"
      ]
     },
     "metadata": {},
     "output_type": "display_data"
    },
    {
     "data": {
      "text/plain": [
       "<Figure size 576x360 with 0 Axes>"
      ]
     },
     "metadata": {},
     "output_type": "display_data"
    },
    {
     "data": {
      "text/plain": [
       "<Figure size 576x360 with 0 Axes>"
      ]
     },
     "metadata": {},
     "output_type": "display_data"
    },
    {
     "data": {
      "text/plain": [
       "<Figure size 576x360 with 0 Axes>"
      ]
     },
     "metadata": {},
     "output_type": "display_data"
    },
    {
     "data": {
      "text/plain": [
       "<Figure size 576x360 with 0 Axes>"
      ]
     },
     "metadata": {},
     "output_type": "display_data"
    },
    {
     "data": {
      "text/plain": [
       "<Figure size 576x360 with 0 Axes>"
      ]
     },
     "metadata": {},
     "output_type": "display_data"
    },
    {
     "data": {
      "text/plain": [
       "<Figure size 576x360 with 0 Axes>"
      ]
     },
     "metadata": {},
     "output_type": "display_data"
    },
    {
     "data": {
      "text/plain": [
       "<Figure size 576x360 with 0 Axes>"
      ]
     },
     "metadata": {},
     "output_type": "display_data"
    },
    {
     "data": {
      "text/plain": [
       "<Figure size 576x360 with 0 Axes>"
      ]
     },
     "metadata": {},
     "output_type": "display_data"
    },
    {
     "data": {
      "text/plain": [
       "<Figure size 576x360 with 0 Axes>"
      ]
     },
     "metadata": {},
     "output_type": "display_data"
    },
    {
     "data": {
      "text/plain": [
       "<Figure size 576x360 with 0 Axes>"
      ]
     },
     "metadata": {},
     "output_type": "display_data"
    },
    {
     "data": {
      "text/plain": [
       "<Figure size 576x360 with 0 Axes>"
      ]
     },
     "metadata": {},
     "output_type": "display_data"
    },
    {
     "data": {
      "text/plain": [
       "<Figure size 576x360 with 0 Axes>"
      ]
     },
     "metadata": {},
     "output_type": "display_data"
    },
    {
     "data": {
      "text/plain": [
       "<Figure size 576x360 with 0 Axes>"
      ]
     },
     "metadata": {},
     "output_type": "display_data"
    },
    {
     "data": {
      "text/plain": [
       "<Figure size 576x360 with 0 Axes>"
      ]
     },
     "metadata": {},
     "output_type": "display_data"
    },
    {
     "data": {
      "text/plain": [
       "<Figure size 576x360 with 0 Axes>"
      ]
     },
     "metadata": {},
     "output_type": "display_data"
    },
    {
     "data": {
      "text/plain": [
       "<Figure size 576x360 with 0 Axes>"
      ]
     },
     "metadata": {},
     "output_type": "display_data"
    },
    {
     "data": {
      "text/plain": [
       "<Figure size 576x360 with 0 Axes>"
      ]
     },
     "metadata": {},
     "output_type": "display_data"
    },
    {
     "data": {
      "text/plain": [
       "<Figure size 576x360 with 0 Axes>"
      ]
     },
     "metadata": {},
     "output_type": "display_data"
    },
    {
     "data": {
      "text/plain": [
       "<Figure size 576x360 with 0 Axes>"
      ]
     },
     "metadata": {},
     "output_type": "display_data"
    },
    {
     "data": {
      "text/plain": [
       "<Figure size 576x360 with 0 Axes>"
      ]
     },
     "metadata": {},
     "output_type": "display_data"
    },
    {
     "data": {
      "text/plain": [
       "<Figure size 576x360 with 0 Axes>"
      ]
     },
     "metadata": {},
     "output_type": "display_data"
    },
    {
     "data": {
      "text/plain": [
       "<Figure size 576x360 with 0 Axes>"
      ]
     },
     "metadata": {},
     "output_type": "display_data"
    },
    {
     "data": {
      "text/plain": [
       "<Figure size 576x360 with 0 Axes>"
      ]
     },
     "metadata": {},
     "output_type": "display_data"
    },
    {
     "data": {
      "text/plain": [
       "<Figure size 576x360 with 0 Axes>"
      ]
     },
     "metadata": {},
     "output_type": "display_data"
    },
    {
     "data": {
      "text/plain": [
       "<Figure size 576x360 with 0 Axes>"
      ]
     },
     "metadata": {},
     "output_type": "display_data"
    },
    {
     "data": {
      "text/plain": [
       "<Figure size 576x360 with 0 Axes>"
      ]
     },
     "metadata": {},
     "output_type": "display_data"
    },
    {
     "data": {
      "text/plain": [
       "<Figure size 576x360 with 0 Axes>"
      ]
     },
     "metadata": {},
     "output_type": "display_data"
    },
    {
     "data": {
      "text/plain": [
       "<Figure size 576x360 with 0 Axes>"
      ]
     },
     "metadata": {},
     "output_type": "display_data"
    }
   ],
   "source": [
    "# loose outcome: really no positive or negative bonus to doing this type of filtering\n",
    "for k, v in datasets.items():  \n",
    "    plt.figure(figsize=(8,5))\n",
    "    for ds in v:\n",
    "        if k in ['MTBLS148','MTBLS200', 'MTBLS20', 'ST000397', 'MTBLS264', 'snyder']:\n",
    "            ds['p_auc'] = []\n",
    "            ds['p_std'] = [] # use len(ds['p_auc']) to pass these during plotting\n",
    "            continue\n",
    "        if 'IPO' not in ds['data_set'] and 'XCMS' not in ds['data_set']:\n",
    "            continue\n",
    "#         if k != 'ST000063':\n",
    "#             continue\n",
    "#         if 'IPO' not in ds['data_set']:\n",
    "#             continue\n",
    "            \n",
    "        ds['labels'] = ds['labels']*1\n",
    "        vals = ds['labels'].values\n",
    "        try:\n",
    "            vals = [item for sublist in vals for item in sublist]\n",
    "        except:\n",
    "            pass\n",
    "        labels = set(vals)\n",
    "        ds['num_labels'] = len(labels)\n",
    "\n",
    "        if ds['data_set'] == 'IPO_aligned_MTBLS92':\n",
    "            f = [fi for fi in list(ds['features'].index) if '163' in fi]\n",
    "            ds['features'] = ds['features'].loc[f]\n",
    "            ds['labels'] = ds['labels'].loc[f]\n",
    "        if ds['study'] == 'MTBLS92' and ds['data_set'] == 'Author_data':\n",
    "            f = [fi for fi in list(ds['features'].index) if 'A' in fi]\n",
    "            ds['features'] = ds['features'].loc[f]\n",
    "            ds['labels'] = ds['labels'].loc[f]\n",
    "        print(k, ds['data_set'])    \n",
    "        \n",
    "\n",
    "        #define the number of repeats for each level of subsetting\n",
    "        thresholds = [0, 100, 1000, 2000, 10000, 40000, 100000] # levels of subsetting\n",
    "        ds['p_auc'] = []\n",
    "        ds['p_std'] = []\n",
    "        ds['feature_count'] = []\n",
    "        ds['good_thresholds'] = []\n",
    "        unique_p = []\n",
    "        unique_shapes = []\n",
    "        for t in thresholds:\n",
    "            X = ds['features'].values.copy()\n",
    "            ds['max_features'] = X.shape[1]\n",
    "            y = ds['labels'].values.copy().ravel().astype(int)\n",
    "            X = convert_nan_to_val(X, value=0)\n",
    "            X[np.isinf(X)] = 0\n",
    "            col_keep = []\n",
    "            for i in range(X.shape[1]):\n",
    "# THESE ARE THE THREE MAIN WAYS OF RUNNING THIS CELL - DONT FORGET TO CHANGE WHERE IT SAVES\n",
    "                if X[:,i].mean() >= t:\n",
    "#                 if X[:,i].max() >= t:\n",
    "#                 if X[:,i].max()-X[:,i].min() >= t:\n",
    "                    col_keep.append(i)\n",
    "            if len(col_keep) < 2:\n",
    "                continue\n",
    "            X = X[:,col_keep]\n",
    "\n",
    "            ds['feature_count'].append(X.shape[1])\n",
    "            # for log transform:\n",
    "            if 'IPO' in ds['data_set'] or 'XCMS' in ds['data_set']:\n",
    "                X[X==0] = 1\n",
    "                X = np.log2(X)\n",
    "            auc_mean, auc_std = l1_log_reg(X,y,ds)\n",
    "\n",
    "            ds['p_auc'].append(auc_mean)\n",
    "            ds['p_std'].append(auc_std)\n",
    "            ds['good_thresholds'].append(t)\n",
    "# #         plt.plot(percents, ds['p_auc'], label=ds['data_set'])\n",
    "        plt.errorbar(np.asarray(ds['feature_count'])/ds['max_features'], ds['p_auc'], ds['p_std'], marker='.', label=ds['data_set']+' '+str(ds['max_features']))\n",
    "# #         plt.legend(bbox_to_anchor=(1, 0.5))\n",
    "    plt.legend()\n",
    "    plt.xlabel('Fraction of features with mean val greater than threshold')\n",
    "    plt.ylabel('AUC')  \n",
    "    plt.title(k)\n",
    "\n",
    "#     plt.show()\n",
    "# #     plt.tight_layout()\n",
    "    plt.savefig('./mean_greaterthan_X/'+k) #CHANGE THIS FOR WHICH WAY YOU WANT TO RUN THIS\n",
    "    plt.gcf().clear()"
   ]
  },
  {
   "cell_type": "markdown",
   "metadata": {},
   "source": [
    "# Filter based on camera labeling\n",
    "different ways to filter: 1) get not null isotopes / adduct / pcgroup (note pcgroups might be assigned for all...and with multiple compounds in a pcgroup). 2) get a single compound for each of the groups (? doesn't make sense to do this for pcgroups and not real group for adducts so really only makes some sense for isotopes - ie to deisotope the data...) - ie extract single compounds? "
   ]
  },
  {
   "cell_type": "code",
   "execution_count": null,
   "metadata": {},
   "outputs": [
    {
     "name": "stdout",
     "output_type": "stream",
     "text": [
      "Feng serum_IPO_aligned_Feng_serum_batch1\n",
      "No filer:  1.0\n",
      "isotope 0.9931972789115647\n",
      "adduct 1.0\n",
      "pcgroup 1.0\n",
      "Feng serum_IPO_aligned_Feng_serum_batch2\n",
      "No filer:  0.996031746031746\n",
      "isotope 0.996031746031746\n",
      "adduct 0.9967948717948718\n",
      "pcgroup 1.0\n",
      "Feng urine_IPO_aligned_Feng_urine_batch1\n",
      "No filer:  0.980952380952381\n",
      "isotope 0.9904761904761905\n",
      "adduct 0.9740740740740742\n",
      "pcgroup 0.9761904761904763\n",
      "Feng urine_IPO_aligned_Feng_urine_batch2\n",
      "No filer:  0.9714285714285714\n",
      "isotope 0.9848484848484849\n",
      "adduct 0.938095238095238\n",
      "pcgroup 0.9582251082251082\n",
      "MTBLS105 IPO_aligned_MTBLS105_qMS\n",
      "No filer:  0.5550393234216764\n",
      "isotope 0.5202003878474467\n",
      "pcgroup 0.5689102564102564\n",
      "MTBLS105 IPO_aligned_MTBLS105_SIM-MS\n",
      "No filer:  0.7993428140486963\n",
      "isotope 0.6047053436759319\n",
      "adduct 0.48598093083387206\n",
      "pcgroup 0.857223658694247\n",
      "MTBLS146 IPO_aligned_MTBLS146_global_neg\n",
      "No filer:  0.39035428986409376\n",
      "isotope 0.4793158003942318\n",
      "adduct 0.3555866791160909\n",
      "pcgroup 0.44235657225853303\n",
      "MTBLS146 IPO_aligned_MTBLS146_global_pos\n",
      "No filer:  0.7918079096045197\n",
      "isotope 0.6739171374764595\n",
      "adduct 0.730885122410546\n",
      "pcgroup 0.7643126177024483\n",
      "MTBLS17 IPO_aligned_MTBLS17_neg_exp1\n",
      "No filer:  0.6505099959200326\n",
      "isotope 0.6257445940432477\n",
      "adduct 0.6814565483476133\n",
      "pcgroup 0.6596287229702162\n",
      "MTBLS17 IPO_aligned_MTBLS17_neg_exp2\n",
      "No filer:  0.4881127450980392\n",
      "isotope 0.4568627450980392\n",
      "adduct 0.4294117647058823\n",
      "pcgroup 0.6004901960784313\n",
      "MTBLS17 IPO_aligned_MTBLS17_neg_exp3\n",
      "No filer:  1.0\n",
      "isotope 1.0\n",
      "adduct 0.6666666666666666\n",
      "pcgroup 0.25\n",
      "MTBLS17 IPO_aligned_MTBLS17_pos_exp1\n",
      "No filer:  0.7062015503875969\n",
      "isotope 0.674031007751938\n",
      "adduct 0.6329457364341086\n",
      "pcgroup 0.6426356589147287\n",
      "MTBLS17 IPO_aligned_MTBLS17_pos_exp3\n",
      "No filer:  0.8333333333333334\n",
      "isotope 1.0\n",
      "adduct 1.0\n",
      "pcgroup 1.0\n",
      "MTBLS191 IPO_aligned_MTBLS191\n",
      "No filer:  0.5151515151515151\n",
      "isotope 0.08333333333333333\n",
      "pcgroup 0.5568181818181818\n",
      "MTBLS19 IPO_aligned_MTBLS19_neg_exp1_F\n",
      "No filer:  0.7080026455026455\n",
      "isotope 0.7245370370370372\n",
      "adduct 0.7192460317460317\n",
      "pcgroup 0.6924603174603176\n",
      "MTBLS19 IPO_aligned_MTBLS19_neg_exp1_R\n",
      "No filer:  0.734457671957672\n",
      "isotope 0.7804232804232805\n",
      "adduct 0.5843253968253969\n",
      "pcgroup 0.7397486772486772\n",
      "MTBLS19 IPO_aligned_MTBLS19_neg_exp2_F\n",
      "No filer:  0.8796296296296297\n",
      "isotope 0.7886904761904762\n",
      "adduct 0.7675264550264549\n",
      "pcgroup 0.8968253968253969\n",
      "MTBLS19 IPO_aligned_MTBLS19_neg_exp2_R\n",
      "No filer:  0.726851851851852\n",
      "isotope 0.814484126984127\n",
      "adduct 0.7175925925925926\n",
      "pcgroup 0.8349867724867724\n",
      "MTBLS19 IPO_aligned_MTBLS19_pos_exp1_F\n",
      "No filer:  0.667989417989418\n",
      "isotope 0.7569444444444443\n",
      "adduct 0.5185185185185185\n",
      "pcgroup 0.7718253968253969\n",
      "MTBLS19 IPO_aligned_MTBLS19_pos_exp1_R\n",
      "No filer:  0.7420634920634921\n",
      "isotope 0.708994708994709\n",
      "adduct 0.6984126984126983\n",
      "pcgroup 0.7341269841269842\n",
      "MTBLS19 IPO_aligned_MTBLS19_pos_exp2_F\n",
      "No filer:  0.8839285714285715\n",
      "isotope 0.7893518518518517\n",
      "adduct 0.9507275132275131\n",
      "pcgroup 0.9487433862433862\n",
      "MTBLS19 IPO_aligned_MTBLS19_pos_exp2_R\n",
      "No filer:  0.8452380952380952\n",
      "isotope 0.7294973544973544\n",
      "adduct 0.7754629629629629\n",
      "pcgroup 0.8759920634920636\n",
      "MTBLS266 IPO_aligned_MTBLS266_neg\n",
      "No filer:  0.9466666666666667\n",
      "isotope 0.9466666666666667\n",
      "adduct 0.9066666666666667\n",
      "pcgroup 0.8666666666666667\n",
      "MTBLS266 IPO_aligned_MTBLS266_pos\n",
      "No filer:  0.9866666666666667\n",
      "isotope 0.8666666666666667\n",
      "adduct 0.9466666666666667\n",
      "pcgroup 0.8666666666666667\n",
      "MTBLS28 IPO_aligned_MTBLS28_neg\n",
      "No filer:  0.8410780873129449\n",
      "isotope 0.7930459552933682\n",
      "adduct 0.8055551907685731\n",
      "pcgroup 0.8599843866387444\n",
      "MTBLS28 IPO_aligned_MTBLS28_pos\n",
      "No filer:  0.860177619941712\n",
      "isotope 0.8527803921983917\n",
      "adduct 0.8029834959365755\n",
      "pcgroup 0.8573955147822466\n",
      "MTBLS315 IPO_aligned_MTBLS315_mzData\n",
      "No filer:  0.5614478114478114\n",
      "isotope 0.5838945005611672\n",
      "adduct 0.4051627384960718\n",
      "pcgroup 0.5317059483726151\n",
      "MTBLS315 IPO_aligned_MTBLS315_mzXML\n",
      "No filer:  0.8700897867564534\n",
      "isotope 0.919472502805836\n",
      "adduct 0.7996632996632997\n",
      "pcgroup 0.8810325476992144\n",
      "MTBLS315 IPO_aligned_MTBLS315_n_mzML\n",
      "No filer:  0.8594276094276095\n",
      "isotope 0.8793490460157128\n",
      "adduct 0.8569023569023568\n",
      "pcgroup 0.8768237934904602\n",
      "MTBLS315 IPO_aligned_MTBLS315_p_mzML\n",
      "No filer:  0.8608305274971942\n",
      "isotope 0.8428731762065095\n",
      "adduct 0.8378226711560045\n",
      "pcgroup 0.9705387205387206\n",
      "MTBLS315 XCMS-Report-annotated-SingleClass-CDF.\n",
      "No filer:  0.45286195286195285\n",
      "isotope 0.5754769921436588\n",
      "pcgroup 0.5541526374859708\n",
      "MTBLS315 XCMS-Report-annotated-SingleClass-n_mzML.\n",
      "No filer:  0.9149831649831649\n",
      "isotope 0.9222783389450057\n",
      "pcgroup 0.851290684624018\n",
      "MTBLS352 IPO_aligned_MTBLS352_neg\n",
      "No filer:  0.5451422800988727\n",
      "isotope 0.5098748266714898\n",
      "adduct 0.4476216313980828\n",
      "pcgroup 0.5174688762283716\n",
      "MTBLS354 IPO_aligned_MTBLS354_neg\n",
      "No filer:  0.986077530625403\n",
      "isotope 0.9872931442080377\n",
      "adduct 0.9822605487499105\n",
      "pcgroup 0.9880319148936171\n",
      "MTBLS354 IPO_aligned_MTBLS354_pos\n",
      "No filer:  0.9875886524822696\n",
      "MTBLS364 IPO_aligned_MTBLS364_hil_neg\n",
      "No filer:  0.9852654512097235\n",
      "isotope 0.9837556855100716\n",
      "adduct 0.981118373275236\n",
      "pcgroup 0.9835390946502057\n",
      "MTBLS364 IPO_aligned_MTBLS364_hil_pos\n",
      "No filer:  0.9707602339181287\n",
      "MTBLS364 IPO_aligned_MTBLS364_lip_neg\n",
      "No filer:  0.9978818687969015\n",
      "isotope 0.9615073449782773\n",
      "adduct 0.9258749633706636\n",
      "pcgroup 0.9794843863471314\n",
      "MTBLS364 IPO_aligned_MTBLS364_lip_pos\n",
      "No filer:  0.9989106753812637\n",
      "isotope 0.9921485813298679\n",
      "adduct 0.9829976175005415\n",
      "pcgroup 0.9979965345462422\n",
      "MTBLS404 IPO_aligned_MTBLS404_neg\n",
      "No filer:  0.9217568621163393\n",
      "isotope 0.9061298481233123\n",
      "adduct 0.878747795414462\n",
      "pcgroup 0.9585926963377944\n",
      "MTBLS408 IPO_aligned_MTBLS408_neg\n",
      "No filer:  0.9466666666666668\n",
      "isotope 0.7881481481481482\n",
      "adduct 0.7111111111111109\n",
      "pcgroup 0.8755555555555556\n",
      "MTBLS408 IPO_aligned_MTBLS408_pos\n",
      "No filer:  0.9392592592592592\n",
      "isotope 0.8533333333333334\n",
      "adduct 0.7274074074074074\n",
      "pcgroup 0.9570370370370371\n",
      "MTBLS665 IPO_aligned_MTBLS665_c18\n",
      "No filer:  0.75\n",
      "isotope 0.7833333333333332\n",
      "adduct 0.6\n",
      "pcgroup 0.7999999999999999\n",
      "MTBLS665 IPO_aligned_MTBLS665_hilic\n",
      "No filer:  0.8333333333333334\n",
      "isotope 0.8666666666666666\n",
      "adduct 0.7666666666666666\n",
      "pcgroup 0.85\n",
      "MTBLS72 IPO_aligned_MTBLS72_neg\n",
      "No filer:  0.8331242532855435\n",
      "isotope 0.8076164874551971\n",
      "adduct 0.7643966547192353\n",
      "pcgroup 0.7586320191158901\n",
      "MTBLS72 IPO_aligned_MTBLS72_pos\n",
      "No filer:  0.7799880525686977\n",
      "isotope 0.7236857825567503\n",
      "adduct 0.7917562724014338\n",
      "pcgroup 0.7737753882915174\n",
      "MTBLS92 IPO_aligned_MTBLS92\n",
      "No filer:  0.8221479458181588\n",
      "isotope 0.8029918216088429\n",
      "adduct 0.8159143185738932\n",
      "pcgroup 0.7998210976934382\n",
      "ST000045 IPO_aligned_ST000045_2feb_pos\n",
      "No filer:  0.7037037037037037\n",
      "isotope 0.7777777777777777\n",
      "adduct 0.8333333333333334\n",
      "pcgroup 0.7037037037037037\n",
      "ST000045 IPO_aligned_ST000045_11feb_neg\n",
      "No filer:  0.7962962962962963\n",
      "isotope 0.7592592592592592\n",
      "adduct 0.5925925925925926\n",
      "pcgroup 0.7777777777777778\n",
      "ST000045 IPO_aligned_ST000045_11mar_pos\n",
      "No filer:  0.40740740740740744\n",
      "isotope 0.5555555555555555\n",
      "adduct 0.611111111111111\n",
      "pcgroup 0.5925925925925926\n",
      "ST000045 IPO_aligned_ST000045_17mar_neg\n",
      "No filer:  0.8888888888888888\n",
      "isotope 0.7592592592592592\n",
      "adduct 0.5925925925925926\n",
      "pcgroup 0.7037037037037037\n",
      "ST000046 IPO_aligned_ST000046_20120606_neg_hilic\n",
      "No filer:  0.37777777777777777\n",
      "isotope 0.3111111111111111\n",
      "adduct 0.35555555555555557\n",
      "pcgroup 0.4666666666666666\n",
      "ST000046 IPO_aligned_ST000046_20120613_neg_hilic\n",
      "No filer:  0.48888888888888893\n",
      "isotope 0.3333333333333333\n",
      "adduct 0.4222222222222222\n",
      "pcgroup 0.4888888888888889\n",
      "ST000046 IPO_aligned_ST000046_20120618_pos_c18\n",
      "No filer:  0.4222222222222222\n",
      "isotope 0.5111111111111111\n",
      "adduct 0.3333333333333333\n",
      "pcgroup 0.5555555555555555\n",
      "ST000046 IPO_aligned_ST000046_20120620_neg_c18\n",
      "No filer:  0.4222222222222222\n",
      "isotope 0.35555555555555557\n",
      "adduct 0.2888888888888889\n",
      "pcgroup 0.35555555555555557\n",
      "ST000046 IPO_aligned_ST000046_20120625_pos_c18\n",
      "No filer:  0.5333333333333333\n",
      "isotope 0.5111111111111111\n",
      "adduct 0.4666666666666666\n",
      "pcgroup 0.48888888888888893\n",
      "ST000046 XCMS-Report-annotated-SingleClass.04jun12\n",
      "No filer:  0.6888888888888888\n",
      "isotope 0.5333333333333333\n",
      "pcgroup 0.5333333333333333\n",
      "ST000046 XCMS-Report-annotated-SingleClass.11jun12\n",
      "No filer:  0.5333333333333333\n",
      "isotope 0.5777777777777778\n",
      "pcgroup 0.7111111111111112\n",
      "ST000046 XCMS-Report-annotated-SingleClass.27jun12\n",
      "No filer:  0.4666666666666666\n",
      "isotope 0.4000000000000001\n"
     ]
    },
    {
     "name": "stdout",
     "output_type": "stream",
     "text": [
      "pcgroup 0.6\n",
      "ST000063 XCMS-Report-annotated-SingleClass.\n",
      "No filer:  0.7364047181372548\n",
      "isotope 0.5533854166666666\n",
      "pcgroup 0.7441023284313726\n",
      "ST000063 XCMS-Report-annotated-SingleClass-GCTOF.\n",
      "No filer:  0.8403416053921569\n",
      "isotope 0.7562040441176471\n",
      "pcgroup 0.7682291666666666\n",
      "ST000329 IPO_aligned_ST000329_pos\n",
      "No filer:  0.7313131313131312\n",
      "isotope 0.6003367003367003\n",
      "adduct 0.7380471380471381\n",
      "pcgroup 0.7319865319865321\n",
      "ST000381 IPO_aligned_ST000381_pos\n",
      "No filer:  0.34767025089605735\n",
      "isotope 0.3587813620071685\n",
      "adduct 0.3379928315412186\n",
      "pcgroup 0.3258064516129033\n",
      "ST000385 IPO_aligned_ST000385_adc1_plasma\n",
      "No filer:  0.6782766439909297\n",
      "isotope 0.7215646258503402\n",
      "adduct 0.5051020408163266\n",
      "pcgroup 0.8013378684807256\n",
      "ST000385 IPO_aligned_ST000385_adc1_serum\n"
     ]
    }
   ],
   "source": [
    "for k, v in datasets.items():  \n",
    "#     plt.figure(figsize=(8,5))\n",
    "    for ds in v:\n",
    "        if k in ['MTBLS148','MTBLS200', 'MTBLS20', 'ST000397', 'MTBLS264', 'snyder']:\n",
    "            ds['p_auc'] = []\n",
    "            ds['p_std'] = [] # use len(ds['p_auc']) to pass these during plotting\n",
    "            continue\n",
    "        if 'IPO' not in ds['data_set'] and 'XCMS' not in ds['data_set']:\n",
    "            continue\n",
    "        if 'pcgroup' not in list(ds['peaks']):\n",
    "            continue\n",
    "        isotopes = ds['peaks']['isotopes']\n",
    "        isotopes_notnull = isotopes.notnull()\n",
    "        adducts = ds['peaks']['adduct']\n",
    "        adducts_notnull = adducts.notnull()\n",
    "        pcgroups = ds['peaks']['pcgroup']\n",
    "        pcgroups_notnull = pcgroups.notnull()\n",
    "        filters = [isotopes_notnull, adducts_notnull, pcgroups_notnull]\n",
    "        filter_names = ['isotope', 'adduct', 'pcgroup']\n",
    "#         if k != 'ST000063':\n",
    "#             continue\n",
    "#         if 'IPO' not in ds['data_set']:\n",
    "#             continue\n",
    "        \n",
    "        ds['labels'] = ds['labels']*1\n",
    "        vals = ds['labels'].values\n",
    "        try:\n",
    "            vals = [item for sublist in vals for item in sublist]\n",
    "        except:\n",
    "            pass\n",
    "        labels = set(vals)\n",
    "        ds['num_labels'] = len(labels)\n",
    "        if ds['data_set'] == 'IPO_aligned_MTBLS92':\n",
    "            f = [fi for fi in list(ds['features'].index) if '163' in fi]\n",
    "            ds['features'] = ds['features'].loc[f]\n",
    "            ds['labels'] = ds['labels'].loc[f]\n",
    "        if ds['study'] == 'MTBLS92' and ds['data_set'] == 'Author_data':\n",
    "            f = [fi for fi in list(ds['features'].index) if 'A' in fi]\n",
    "            ds['features'] = ds['features'].loc[f]\n",
    "            ds['labels'] = ds['labels'].loc[f]\n",
    "        print(k, ds['data_set'])  \n",
    "        \n",
    "        X = ds['features'].values.copy()\n",
    "        y = ds['labels'].values.copy().ravel().astype(int)\n",
    "        X = convert_nan_to_val(X, value=0)\n",
    "        X[np.isinf(X)] = 0\n",
    "        if 'IPO' in ds['data_set'] or 'XCMS' in ds['data_set']:\n",
    "            X[X==0] = 1\n",
    "            X = np.log2(X)\n",
    "        auc_mean, auc_std = l1_log_reg(X,y,ds)\n",
    "        print('No filter: ', auc_mean)\n",
    "        for filt, name in zip(filters,filter_names):\n",
    "            X_filt = X[:,filt]\n",
    "            if X_filt.shape[1] < 2:\n",
    "                continue\n",
    "            auc_mean, auc_std = l1_log_reg(X_filt,y,ds)\n",
    "            print(name, auc_mean)"
   ]
  },
  {
   "cell_type": "code",
   "execution_count": null,
   "metadata": {},
   "outputs": [],
   "source": []
  }
 ],
 "metadata": {
  "kernelspec": {
   "display_name": "Python 3",
   "language": "python",
   "name": "python3"
  },
  "language_info": {
   "codemirror_mode": {
    "name": "ipython",
    "version": 3
   },
   "file_extension": ".py",
   "mimetype": "text/x-python",
   "name": "python",
   "nbconvert_exporter": "python",
   "pygments_lexer": "ipython3",
   "version": "3.6.5"
  }
 },
 "nbformat": 4,
 "nbformat_minor": 2
}
